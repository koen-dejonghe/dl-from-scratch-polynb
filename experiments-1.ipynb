{
  "metadata" : {
    "config" : {
      "dependencies" : {
        
      },
      "exclusions" : [
      ],
      "repositories" : [
      ],
      "env" : {
        
      }
    },
    "language_info" : {
      "name" : "python"
    }
  },
  "nbformat" : 4,
  "nbformat_minor" : 0,
  "cells" : [
    {
      "cell_type" : "markdown",
      "execution_count" : 0,
      "metadata" : {
        "language" : "text"
      },
      "language" : "text",
      "source" : [
        "# experiments 1\n",
        "\n",
        "This is a text cell. Start editing!"
      ],
      "outputs" : [
      ]
    },
    {
      "cell_type" : "code",
      "execution_count" : 1,
      "metadata" : {
        "cell.metadata.exec_info" : {
          "startTs" : 1585384037568,
          "endTs" : 1585384037648
        },
        "language" : "python"
      },
      "language" : "python",
      "source" : [
        "import numpy as np\n",
        "import matplotlib.pyplot as plt\n",
        "import time"
      ],
      "outputs" : [
      ]
    },
    {
      "cell_type" : "code",
      "execution_count" : 2,
      "metadata" : {
        "cell.metadata.exec_info" : {
          "startTs" : 1585385069352,
          "endTs" : 1585385069401
        },
        "language" : "python"
      },
      "language" : "python",
      "source" : [
        "def pltsin(fig, ax, colors=['b']):\n",
        "    x = np.linspace(0,1,100)\n",
        "    if ax.lines:\n",
        "        for line in ax.lines:\n",
        "            line.set_xdata(x)\n",
        "            y = np.random.random(size=(100,1))\n",
        "            # print(y)\n",
        "            line.set_ydata(y)\n",
        "    else:\n",
        "        for color in colors:\n",
        "            y = np.random.random(size=(100,1))\n",
        "            # print(y)\n",
        "            ax.plot(x, y, color)\n",
        "    fig.canvas.draw()\n",
        "    plt.show()"
      ],
      "outputs" : [
      ]
    },
    {
      "cell_type" : "code",
      "execution_count" : 3,
      "metadata" : {
        "cell.metadata.exec_info" : {
          "startTs" : 1585385128130,
          "endTs" : 1585385128265
        },
        "language" : "python"
      },
      "language" : "python",
      "source" : [
        "fig,ax = plt.subplots(1,1)\n",
        "ax.set_xlabel('X')\n",
        "ax.set_ylabel('Y')\n",
        "ax.set_xlim(0,1)\n",
        "ax.set_ylim(0,1)\n",
        "# for f in range(5):\n",
        "pltsin(fig, ax, ['b', 'r'])\n",
        "    # time.sleep(1)\n",
        "# plt.show()\n",
        "fig.canvas.draw()\n",
        "ax.legend()\n",
        "ax.grid(True)\n",
        "\n",
        "plt.show()\n"
      ],
      "outputs" : [
      ]
    },
    {
      "cell_type" : "code",
      "execution_count" : 4,
      "metadata" : {
        "language" : "python"
      },
      "language" : "python",
      "source" : [
      ],
      "outputs" : [
      ]
    }
  ]
}